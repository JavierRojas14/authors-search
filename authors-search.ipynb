{
 "cells": [
  {
   "cell_type": "code",
   "execution_count": 1,
   "metadata": {},
   "outputs": [],
   "source": [
    "import pandas as pd\n",
    "import numpy as np\n",
    "\n",
    "import matplotlib.pyplot as plt\n",
    "import seaborn as sns\n",
    "\n",
    "import glob\n",
    "\n",
    "import funciones as fx\n",
    "\n",
    "sns.set_theme(palette='pastel')\n",
    "plt.rcParams['figure.figsize'] = (12, 6)\n",
    "pd.set_option('display.max_columns', None)"
   ]
  },
  {
   "cell_type": "code",
   "execution_count": 2,
   "metadata": {},
   "outputs": [
    {
     "name": "stdout",
     "output_type": "stream",
     "text": [
      "\n",
      "Analizando a articulos\\alfredhero.txt\n",
      "> Autores distintos con los que ha trabajado: 18\n",
      "> Autores repetidos: 4\n",
      "> Autores con los que ha trabajado una vez: 14\n",
      "\n",
      "Analizando a articulos\\ambuj.txt\n",
      "> Autores distintos con los que ha trabajado: 27\n",
      "> Autores repetidos: 3\n",
      "> Autores con los que ha trabajado una vez: 24\n",
      "\n",
      "Analizando a articulos\\becker.txt\n",
      "> Autores distintos con los que ha trabajado: 18\n",
      "> Autores repetidos: 5\n",
      "> Autores con los que ha trabajado una vez: 13\n",
      "\n",
      "Analizando a articulos\\cristinasavin.txt\n",
      "> Autores distintos con los que ha trabajado: 27\n",
      "> Autores repetidos: 4\n",
      "> Autores con los que ha trabajado una vez: 23\n",
      "\n",
      "Analizando a articulos\\doshi.txt\n",
      "> Autores distintos con los que ha trabajado: 35\n",
      "> Autores repetidos: 5\n",
      "> Autores con los que ha trabajado una vez: 30\n",
      "\n",
      "Analizando a articulos\\edward.txt\n",
      "> Autores distintos con los que ha trabajado: 19\n",
      "> Autores repetidos: 7\n",
      "> Autores con los que ha trabajado una vez: 12\n",
      "\n",
      "Analizando a articulos\\gracelindsay.txt\n",
      "> Autores distintos con los que ha trabajado: 19\n",
      "> Autores repetidos: 1\n",
      "> Autores con los que ha trabajado una vez: 18\n",
      "\n",
      "Analizando a articulos\\kerby.txt\n",
      "> Autores distintos con los que ha trabajado: 35\n",
      "> Autores repetidos: 3\n",
      "> Autores con los que ha trabajado una vez: 32\n",
      "\n",
      "Analizando a articulos\\protopapas.txt\n",
      "> Autores distintos con los que ha trabajado: 24\n",
      "> Autores repetidos: 8\n",
      "> Autores con los que ha trabajado una vez: 16\n",
      "\n",
      "Analizando a articulos\\rajeshranganath.txt\n",
      "> Autores distintos con los que ha trabajado: 29\n",
      "> Autores repetidos: 3\n",
      "> Autores con los que ha trabajado una vez: 26\n",
      "\n",
      "Analizando a articulos\\roderick.txt\n",
      "> Autores distintos con los que ha trabajado: 13\n",
      "> Autores repetidos: 3\n",
      "> Autores con los que ha trabajado una vez: 10\n"
     ]
    }
   ],
   "source": [
    "archivo_autores = glob.glob(\"articulos/*.txt\")\n",
    "resultados = {}\n",
    "for autor in archivo_autores:\n",
    "    with open(autor, \"r\") as file:\n",
    "        print(f\"\\nAnalizando a {autor}\")\n",
    "        texto_articulos = file.read()\n",
    "        resumen_articulo = fx.obtener_resumen_de_articulos(texto_articulos)\n",
    "        fx.resumir_cantidad_de_autores(resumen_articulo)"
   ]
  }
 ],
 "metadata": {
  "kernelspec": {
   "display_name": "base",
   "language": "python",
   "name": "python3"
  },
  "language_info": {
   "codemirror_mode": {
    "name": "ipython",
    "version": 3
   },
   "file_extension": ".py",
   "mimetype": "text/x-python",
   "name": "python",
   "nbconvert_exporter": "python",
   "pygments_lexer": "ipython3",
   "version": "3.11.7"
  }
 },
 "nbformat": 4,
 "nbformat_minor": 2
}
